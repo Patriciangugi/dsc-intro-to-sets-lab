{
  "nbformat": 4,
  "nbformat_minor": 0,
  "metadata": {
    "colab": {
      "provenance": [],
      "authorship_tag": "ABX9TyOnAwwkgeN67GU7C5cfEA0I",
      "include_colab_link": true
    },
    "kernelspec": {
      "name": "python3",
      "display_name": "Python 3"
    },
    "language_info": {
      "name": "python"
    }
  },
  "cells": [
    {
      "cell_type": "markdown",
      "metadata": {
        "id": "view-in-github",
        "colab_type": "text"
      },
      "source": [
        "<a href=\"https://colab.research.google.com/github/Patriciangugi/dsc-intro-to-sets-lab/blob/master/Explanation%20Set%20Definitions%3A%20We%20define%20two%20sets%2C%20%20%F0%9D%90%B4%20A%20and%20%20%F0%9D%90%B5%20B%2C%20with%20some%20elements.%20Cardinalities%3A%20We%20calculate%20the%20cardinalities%20(sizes)%20of%20sets%20%20%F0%9D%90%B4%20A%20and%20%20%F0%9D%90%B5%20B%20using%20len().%20Intersection%3A%20We%20find%20the%20intersection%20of%20sets%20%20%F0%9D%90%B4%20A%20and%20%20%F0%9D%90%B5%20B%20using%20A.intersection(B)%20and%20determine%20its%20cardinality.%20Union%20Size%3A%20We%20apply%20the%20inclusion-exclusion%20principle%20to%20compute%20the%20size%20of%20the%20union%20of%20sets%20%20%F0%9D%90%B4%20A%20and%20%20%F0%9D%90%B5%20B.%20Conclusion%20The%20demonstration%20in%20Python%20illustrates%20how%20to%20use%20sets%20and%20set%20operations%20to%20compute%20the%20size%20of%20unions%20using%20the%20inclusion-exclusion%20principle.%20This%20principle%20is%20not%20only%20foundational%20in%20set%20theory%20but%20also%20widely%20applicable%20in%20various%20computational%20contexts%2C%20including%20probability%20theory%20and%20data%20analysis.ipynb\" target=\"_parent\"><img src=\"https://colab.research.google.com/assets/colab-badge.svg\" alt=\"Open In Colab\"/></a>"
      ]
    },
    {
      "cell_type": "code",
      "execution_count": null,
      "metadata": {
        "id": "tZRee9UrdMO9"
      },
      "outputs": [],
      "source": []
    },
    {
      "cell_type": "markdown",
      "source": [
        "The inclusion-exclusion principle in set theory is a fundamental concept that allows us to calculate the size of the union of two or more sets. In Python, we can easily demonstrate this principle using sets and set operations. Let's walk through an example step-by-step.\n",
        "\n",
        "Inclusion-Exclusion Principle\n",
        "The inclusion-exclusion principle for two sets\n",
        "𝐴\n",
        "A and\n",
        "𝐵\n",
        "B is given by:\n",
        "\n",
        "∣\n",
        "𝐴\n",
        "∪\n",
        "𝐵\n",
        "∣\n",
        "=\n",
        "∣\n",
        "𝐴\n",
        "∣\n",
        "+\n",
        "∣\n",
        "𝐵\n",
        "∣\n",
        "−\n",
        "∣\n",
        "𝐴\n",
        "∩\n",
        "𝐵\n",
        "∣\n",
        "∣A∪B∣=∣A∣+∣B∣−∣A∩B∣\n",
        "\n",
        "This formula calculates the size (or cardinality) of the union of sets\n",
        "𝐴\n",
        "A and\n",
        "𝐵\n",
        "B, accounting for any elements that may overlap (intersection).\n",
        "\n",
        "Example in Python\n",
        "Let's create two sets and demonstrate the inclusion-exclusion principle using Python:"
      ],
      "metadata": {
        "id": "BRSz4KJDddGO"
      }
    },
    {
      "cell_type": "code",
      "source": [
        "# Define two sets\n",
        "A = {1, 2, 3, 4, 5}\n",
        "B = {4, 5, 6, 7, 8}\n",
        "\n",
        "# Calculate cardinalities\n",
        "card_A = len(A)\n",
        "card_B = len(B)\n",
        "card_A_intersect_B = len(A.intersection(B))  # Size of intersection\n",
        "\n",
        "# Calculate union size using inclusion-exclusion principle\n",
        "union_size = card_A + card_B - card_A_intersect_B\n",
        "\n",
        "# Print results\n",
        "print(\"Set A:\", A)\n",
        "print(\"Set B:\", B)\n",
        "print(\"Cardinality of A:\", card_A)\n",
        "print(\"Cardinality of B:\", card_B)\n",
        "print(\"Intersection of A and B:\", A.intersection(B))\n",
        "print(\"Cardinality of A ∩ B:\", card_A_intersect_B)\n",
        "print(\"Cardinality of A ∪ B using inclusion-exclusion principle:\", union_size)\n"
      ],
      "metadata": {
        "colab": {
          "base_uri": "https://localhost:8080/"
        },
        "id": "4jwy_nKedtBh",
        "outputId": "3aa966b1-faa1-4e75-c8d8-3ba810d3b9bc"
      },
      "execution_count": 1,
      "outputs": [
        {
          "output_type": "stream",
          "name": "stdout",
          "text": [
            "Set A: {1, 2, 3, 4, 5}\n",
            "Set B: {4, 5, 6, 7, 8}\n",
            "Cardinality of A: 5\n",
            "Cardinality of B: 5\n",
            "Intersection of A and B: {4, 5}\n",
            "Cardinality of A ∩ B: 2\n",
            "Cardinality of A ∪ B using inclusion-exclusion principle: 8\n"
          ]
        }
      ]
    },
    {
      "cell_type": "markdown",
      "source": [
        "Conclusion;\n",
        "Set Definitions: We define two sets,\n",
        "𝐴\n",
        "A and\n",
        "𝐵\n",
        "B, with some elements.\n",
        "Cardinalities: We calculate the cardinalities (sizes) of sets\n",
        "𝐴\n",
        "A and\n",
        "𝐵\n",
        "B using len().\n",
        "Intersection: We find the intersection of sets\n",
        "𝐴\n",
        "A and\n",
        "𝐵\n",
        "B using A.intersection(B) and determine its cardinality.\n",
        "Union Size: We apply the inclusion-exclusion principle to compute the size of the union of sets\n",
        "𝐴\n",
        "A and\n",
        "𝐵\n",
        "B.\n",
        "Conclusion\n",
        "The demonstration in Python illustrates how to use sets and set operations to compute the size of unions using the inclusion-exclusion principle. This principle is not only foundational in set theory but also widely applicable in various computational contexts, including probability theory and data analysis."
      ],
      "metadata": {
        "id": "AQCNCxGCeGxx"
      }
    },
    {
      "cell_type": "code",
      "source": [],
      "metadata": {
        "id": "HctzTTwBeSS7"
      },
      "execution_count": null,
      "outputs": []
    },
    {
      "cell_type": "markdown",
      "source": [],
      "metadata": {
        "id": "4EdSA0f_dTso"
      }
    }
  ]
}